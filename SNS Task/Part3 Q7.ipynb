{
 "cells": [
  {
   "cell_type": "code",
   "execution_count": 1,
   "id": "a4720ff3",
   "metadata": {},
   "outputs": [],
   "source": [
    "import pandas as pd\n",
    "import numpy as np\n",
    "from scipy import stats\n",
    "from sklearn.preprocessing import LabelEncoder\n",
    "import seaborn as sns\n",
    "import matplotlib.pyplot as plt"
   ]
  },
  {
   "cell_type": "code",
   "execution_count": 2,
   "id": "36ec8cdc",
   "metadata": {},
   "outputs": [],
   "source": [
    "data=pd.read_csv(\"employeedata.csv\")"
   ]
  },
  {
   "cell_type": "code",
   "execution_count": 3,
   "id": "5baf2b2e",
   "metadata": {},
   "outputs": [
    {
     "data": {
      "text/html": [
       "<div>\n",
       "<style scoped>\n",
       "    .dataframe tbody tr th:only-of-type {\n",
       "        vertical-align: middle;\n",
       "    }\n",
       "\n",
       "    .dataframe tbody tr th {\n",
       "        vertical-align: top;\n",
       "    }\n",
       "\n",
       "    .dataframe thead th {\n",
       "        text-align: right;\n",
       "    }\n",
       "</style>\n",
       "<table border=\"1\" class=\"dataframe\">\n",
       "  <thead>\n",
       "    <tr style=\"text-align: right;\">\n",
       "      <th></th>\n",
       "      <th>Education</th>\n",
       "      <th>JoiningYear</th>\n",
       "      <th>City</th>\n",
       "      <th>PaymentTier</th>\n",
       "      <th>Age</th>\n",
       "      <th>Sal</th>\n",
       "      <th>Gender</th>\n",
       "      <th>EverBenched</th>\n",
       "      <th>ExperienceInCurrentDomain</th>\n",
       "      <th>LeaveOrNot</th>\n",
       "    </tr>\n",
       "  </thead>\n",
       "  <tbody>\n",
       "    <tr>\n",
       "      <th>0</th>\n",
       "      <td>Bachelors</td>\n",
       "      <td>2017</td>\n",
       "      <td>Bangalore</td>\n",
       "      <td>3</td>\n",
       "      <td>34</td>\n",
       "      <td>3400</td>\n",
       "      <td>Male</td>\n",
       "      <td>No</td>\n",
       "      <td>0</td>\n",
       "      <td>0</td>\n",
       "    </tr>\n",
       "    <tr>\n",
       "      <th>1</th>\n",
       "      <td>Bachelors</td>\n",
       "      <td>2013</td>\n",
       "      <td>Pune</td>\n",
       "      <td>1</td>\n",
       "      <td>28</td>\n",
       "      <td>2800</td>\n",
       "      <td>Female</td>\n",
       "      <td>No</td>\n",
       "      <td>3</td>\n",
       "      <td>1</td>\n",
       "    </tr>\n",
       "    <tr>\n",
       "      <th>2</th>\n",
       "      <td>Bachelors</td>\n",
       "      <td>2014</td>\n",
       "      <td>New Delhi</td>\n",
       "      <td>3</td>\n",
       "      <td>38</td>\n",
       "      <td>3800</td>\n",
       "      <td>Female</td>\n",
       "      <td>No</td>\n",
       "      <td>2</td>\n",
       "      <td>0</td>\n",
       "    </tr>\n",
       "    <tr>\n",
       "      <th>3</th>\n",
       "      <td>Masters</td>\n",
       "      <td>2016</td>\n",
       "      <td>Bangalore</td>\n",
       "      <td>3</td>\n",
       "      <td>27</td>\n",
       "      <td>2700</td>\n",
       "      <td>Male</td>\n",
       "      <td>No</td>\n",
       "      <td>5</td>\n",
       "      <td>1</td>\n",
       "    </tr>\n",
       "    <tr>\n",
       "      <th>4</th>\n",
       "      <td>Masters</td>\n",
       "      <td>2017</td>\n",
       "      <td>Pune</td>\n",
       "      <td>3</td>\n",
       "      <td>24</td>\n",
       "      <td>2400</td>\n",
       "      <td>Male</td>\n",
       "      <td>Yes</td>\n",
       "      <td>2</td>\n",
       "      <td>1</td>\n",
       "    </tr>\n",
       "    <tr>\n",
       "      <th>5</th>\n",
       "      <td>Bachelors</td>\n",
       "      <td>2016</td>\n",
       "      <td>Bangalore</td>\n",
       "      <td>3</td>\n",
       "      <td>22</td>\n",
       "      <td>2200</td>\n",
       "      <td>Male</td>\n",
       "      <td>No</td>\n",
       "      <td>0</td>\n",
       "      <td>0</td>\n",
       "    </tr>\n",
       "    <tr>\n",
       "      <th>6</th>\n",
       "      <td>Bachelors</td>\n",
       "      <td>2015</td>\n",
       "      <td>New Delhi</td>\n",
       "      <td>3</td>\n",
       "      <td>38</td>\n",
       "      <td>3800</td>\n",
       "      <td>Male</td>\n",
       "      <td>No</td>\n",
       "      <td>0</td>\n",
       "      <td>0</td>\n",
       "    </tr>\n",
       "    <tr>\n",
       "      <th>7</th>\n",
       "      <td>Bachelors</td>\n",
       "      <td>2016</td>\n",
       "      <td>Bangalore</td>\n",
       "      <td>3</td>\n",
       "      <td>34</td>\n",
       "      <td>3400</td>\n",
       "      <td>Female</td>\n",
       "      <td>No</td>\n",
       "      <td>2</td>\n",
       "      <td>1</td>\n",
       "    </tr>\n",
       "    <tr>\n",
       "      <th>8</th>\n",
       "      <td>Bachelors</td>\n",
       "      <td>2016</td>\n",
       "      <td>Pune</td>\n",
       "      <td>3</td>\n",
       "      <td>23</td>\n",
       "      <td>2300</td>\n",
       "      <td>Male</td>\n",
       "      <td>No</td>\n",
       "      <td>1</td>\n",
       "      <td>0</td>\n",
       "    </tr>\n",
       "    <tr>\n",
       "      <th>9</th>\n",
       "      <td>Masters</td>\n",
       "      <td>2017</td>\n",
       "      <td>New Delhi</td>\n",
       "      <td>2</td>\n",
       "      <td>37</td>\n",
       "      <td>3700</td>\n",
       "      <td>Male</td>\n",
       "      <td>No</td>\n",
       "      <td>2</td>\n",
       "      <td>0</td>\n",
       "    </tr>\n",
       "    <tr>\n",
       "      <th>10</th>\n",
       "      <td>Masters</td>\n",
       "      <td>2012</td>\n",
       "      <td>Bangalore</td>\n",
       "      <td>3</td>\n",
       "      <td>27</td>\n",
       "      <td>2700</td>\n",
       "      <td>Male</td>\n",
       "      <td>No</td>\n",
       "      <td>5</td>\n",
       "      <td>1</td>\n",
       "    </tr>\n",
       "    <tr>\n",
       "      <th>11</th>\n",
       "      <td>Bachelors</td>\n",
       "      <td>2016</td>\n",
       "      <td>Pune</td>\n",
       "      <td>3</td>\n",
       "      <td>34</td>\n",
       "      <td>3400</td>\n",
       "      <td>Male</td>\n",
       "      <td>No</td>\n",
       "      <td>3</td>\n",
       "      <td>0</td>\n",
       "    </tr>\n",
       "    <tr>\n",
       "      <th>12</th>\n",
       "      <td>Bachelors</td>\n",
       "      <td>2018</td>\n",
       "      <td>Pune</td>\n",
       "      <td>3</td>\n",
       "      <td>32</td>\n",
       "      <td>3200</td>\n",
       "      <td>Male</td>\n",
       "      <td>Yes</td>\n",
       "      <td>5</td>\n",
       "      <td>1</td>\n",
       "    </tr>\n",
       "    <tr>\n",
       "      <th>13</th>\n",
       "      <td>Bachelors</td>\n",
       "      <td>2016</td>\n",
       "      <td>Bangalore</td>\n",
       "      <td>3</td>\n",
       "      <td>39</td>\n",
       "      <td>3900</td>\n",
       "      <td>Male</td>\n",
       "      <td>No</td>\n",
       "      <td>2</td>\n",
       "      <td>0</td>\n",
       "    </tr>\n",
       "    <tr>\n",
       "      <th>14</th>\n",
       "      <td>Bachelors</td>\n",
       "      <td>2012</td>\n",
       "      <td>Bangalore</td>\n",
       "      <td>3</td>\n",
       "      <td>37</td>\n",
       "      <td>3700</td>\n",
       "      <td>Male</td>\n",
       "      <td>No</td>\n",
       "      <td>4</td>\n",
       "      <td>0</td>\n",
       "    </tr>\n",
       "    <tr>\n",
       "      <th>15</th>\n",
       "      <td>Bachelors</td>\n",
       "      <td>2017</td>\n",
       "      <td>Bangalore</td>\n",
       "      <td>1</td>\n",
       "      <td>29</td>\n",
       "      <td>2900</td>\n",
       "      <td>Male</td>\n",
       "      <td>No</td>\n",
       "      <td>3</td>\n",
       "      <td>0</td>\n",
       "    </tr>\n",
       "    <tr>\n",
       "      <th>16</th>\n",
       "      <td>Bachelors</td>\n",
       "      <td>2014</td>\n",
       "      <td>Bangalore</td>\n",
       "      <td>3</td>\n",
       "      <td>34</td>\n",
       "      <td>3400</td>\n",
       "      <td>Female</td>\n",
       "      <td>No</td>\n",
       "      <td>2</td>\n",
       "      <td>0</td>\n",
       "    </tr>\n",
       "    <tr>\n",
       "      <th>17</th>\n",
       "      <td>Bachelors</td>\n",
       "      <td>2014</td>\n",
       "      <td>Pune</td>\n",
       "      <td>3</td>\n",
       "      <td>34</td>\n",
       "      <td>3400</td>\n",
       "      <td>Male</td>\n",
       "      <td>No</td>\n",
       "      <td>4</td>\n",
       "      <td>0</td>\n",
       "    </tr>\n",
       "    <tr>\n",
       "      <th>18</th>\n",
       "      <td>Bachelors</td>\n",
       "      <td>2015</td>\n",
       "      <td>Pune</td>\n",
       "      <td>2</td>\n",
       "      <td>30</td>\n",
       "      <td>3000</td>\n",
       "      <td>Female</td>\n",
       "      <td>No</td>\n",
       "      <td>0</td>\n",
       "      <td>1</td>\n",
       "    </tr>\n",
       "    <tr>\n",
       "      <th>19</th>\n",
       "      <td>Bachelors</td>\n",
       "      <td>2016</td>\n",
       "      <td>New Delhi</td>\n",
       "      <td>2</td>\n",
       "      <td>22</td>\n",
       "      <td>2200</td>\n",
       "      <td>Female</td>\n",
       "      <td>No</td>\n",
       "      <td>0</td>\n",
       "      <td>1</td>\n",
       "    </tr>\n",
       "  </tbody>\n",
       "</table>\n",
       "</div>"
      ],
      "text/plain": [
       "    Education  JoiningYear       City  PaymentTier  Age   Sal  Gender  \\\n",
       "0   Bachelors         2017  Bangalore            3   34  3400    Male   \n",
       "1   Bachelors         2013       Pune            1   28  2800  Female   \n",
       "2   Bachelors         2014  New Delhi            3   38  3800  Female   \n",
       "3     Masters         2016  Bangalore            3   27  2700    Male   \n",
       "4     Masters         2017       Pune            3   24  2400    Male   \n",
       "5   Bachelors         2016  Bangalore            3   22  2200    Male   \n",
       "6   Bachelors         2015  New Delhi            3   38  3800    Male   \n",
       "7   Bachelors         2016  Bangalore            3   34  3400  Female   \n",
       "8   Bachelors         2016       Pune            3   23  2300    Male   \n",
       "9     Masters         2017  New Delhi            2   37  3700    Male   \n",
       "10    Masters         2012  Bangalore            3   27  2700    Male   \n",
       "11  Bachelors         2016       Pune            3   34  3400    Male   \n",
       "12  Bachelors         2018       Pune            3   32  3200    Male   \n",
       "13  Bachelors         2016  Bangalore            3   39  3900    Male   \n",
       "14  Bachelors         2012  Bangalore            3   37  3700    Male   \n",
       "15  Bachelors         2017  Bangalore            1   29  2900    Male   \n",
       "16  Bachelors         2014  Bangalore            3   34  3400  Female   \n",
       "17  Bachelors         2014       Pune            3   34  3400    Male   \n",
       "18  Bachelors         2015       Pune            2   30  3000  Female   \n",
       "19  Bachelors         2016  New Delhi            2   22  2200  Female   \n",
       "\n",
       "   EverBenched  ExperienceInCurrentDomain  LeaveOrNot  \n",
       "0           No                          0           0  \n",
       "1           No                          3           1  \n",
       "2           No                          2           0  \n",
       "3           No                          5           1  \n",
       "4          Yes                          2           1  \n",
       "5           No                          0           0  \n",
       "6           No                          0           0  \n",
       "7           No                          2           1  \n",
       "8           No                          1           0  \n",
       "9           No                          2           0  \n",
       "10          No                          5           1  \n",
       "11          No                          3           0  \n",
       "12         Yes                          5           1  \n",
       "13          No                          2           0  \n",
       "14          No                          4           0  \n",
       "15          No                          3           0  \n",
       "16          No                          2           0  \n",
       "17          No                          4           0  \n",
       "18          No                          0           1  \n",
       "19          No                          0           1  "
      ]
     },
     "execution_count": 3,
     "metadata": {},
     "output_type": "execute_result"
    }
   ],
   "source": [
    "data.head(20)"
   ]
  },
  {
   "cell_type": "code",
   "execution_count": 4,
   "id": "1f9efde6",
   "metadata": {},
   "outputs": [
    {
     "name": "stdout",
     "output_type": "stream",
     "text": [
      "<class 'pandas.core.frame.DataFrame'>\n",
      "RangeIndex: 4653 entries, 0 to 4652\n",
      "Data columns (total 10 columns):\n",
      " #   Column                     Non-Null Count  Dtype \n",
      "---  ------                     --------------  ----- \n",
      " 0   Education                  4653 non-null   object\n",
      " 1   JoiningYear                4653 non-null   int64 \n",
      " 2   City                       4653 non-null   object\n",
      " 3   PaymentTier                4653 non-null   int64 \n",
      " 4   Age                        4653 non-null   int64 \n",
      " 5   Sal                        4653 non-null   int64 \n",
      " 6   Gender                     4653 non-null   object\n",
      " 7   EverBenched                4653 non-null   object\n",
      " 8   ExperienceInCurrentDomain  4653 non-null   int64 \n",
      " 9   LeaveOrNot                 4653 non-null   int64 \n",
      "dtypes: int64(6), object(4)\n",
      "memory usage: 363.6+ KB\n"
     ]
    }
   ],
   "source": [
    "data.info()"
   ]
  },
  {
   "cell_type": "code",
   "execution_count": 5,
   "id": "820982bb",
   "metadata": {},
   "outputs": [],
   "source": [
    "#therse is no null column \n",
    "#so going to next step for Statistical Analysis\n",
    "#check for values"
   ]
  },
  {
   "cell_type": "code",
   "execution_count": 6,
   "id": "055f329d",
   "metadata": {},
   "outputs": [
    {
     "data": {
      "text/plain": [
       "Education\n",
       "Bachelors    3601\n",
       "Masters       873\n",
       "PHD           179\n",
       "Name: count, dtype: int64"
      ]
     },
     "execution_count": 6,
     "metadata": {},
     "output_type": "execute_result"
    }
   ],
   "source": [
    "data['Education'].value_counts()"
   ]
  },
  {
   "cell_type": "code",
   "execution_count": 7,
   "id": "b4c21e80",
   "metadata": {},
   "outputs": [
    {
     "data": {
      "text/plain": [
       "JoiningYear\n",
       "2017    1108\n",
       "2015     781\n",
       "2014     699\n",
       "2013     669\n",
       "2016     525\n",
       "2012     504\n",
       "2018     367\n",
       "Name: count, dtype: int64"
      ]
     },
     "execution_count": 7,
     "metadata": {},
     "output_type": "execute_result"
    }
   ],
   "source": [
    "data['JoiningYear'].value_counts()"
   ]
  },
  {
   "cell_type": "code",
   "execution_count": 8,
   "id": "8c449363",
   "metadata": {},
   "outputs": [
    {
     "data": {
      "text/plain": [
       "City\n",
       "Bangalore    2228\n",
       "Pune         1268\n",
       "New Delhi    1157\n",
       "Name: count, dtype: int64"
      ]
     },
     "execution_count": 8,
     "metadata": {},
     "output_type": "execute_result"
    }
   ],
   "source": [
    "data['City'].value_counts()"
   ]
  },
  {
   "cell_type": "code",
   "execution_count": 9,
   "id": "46e72a16",
   "metadata": {},
   "outputs": [
    {
     "data": {
      "text/plain": [
       "PaymentTier\n",
       "3    3492\n",
       "2     918\n",
       "1     243\n",
       "Name: count, dtype: int64"
      ]
     },
     "execution_count": 9,
     "metadata": {},
     "output_type": "execute_result"
    }
   ],
   "source": [
    "data['PaymentTier'].value_counts()"
   ]
  },
  {
   "cell_type": "code",
   "execution_count": 10,
   "id": "307c1933",
   "metadata": {},
   "outputs": [
    {
     "data": {
      "text/plain": [
       "EverBenched\n",
       "No     4175\n",
       "Yes     478\n",
       "Name: count, dtype: int64"
      ]
     },
     "execution_count": 10,
     "metadata": {},
     "output_type": "execute_result"
    }
   ],
   "source": [
    "data['EverBenched'].value_counts()"
   ]
  },
  {
   "cell_type": "code",
   "execution_count": 11,
   "id": "68581812",
   "metadata": {},
   "outputs": [
    {
     "data": {
      "text/plain": [
       "ExperienceInCurrentDomain\n",
       "2    1087\n",
       "4     931\n",
       "5     919\n",
       "3     786\n",
       "1     558\n",
       "0     355\n",
       "7       9\n",
       "6       8\n",
       "Name: count, dtype: int64"
      ]
     },
     "execution_count": 11,
     "metadata": {},
     "output_type": "execute_result"
    }
   ],
   "source": [
    "data['ExperienceInCurrentDomain'].value_counts()"
   ]
  },
  {
   "cell_type": "code",
   "execution_count": 12,
   "id": "0c1196e5",
   "metadata": {},
   "outputs": [
    {
     "data": {
      "text/plain": [
       "LeaveOrNot\n",
       "0    3053\n",
       "1    1600\n",
       "Name: count, dtype: int64"
      ]
     },
     "execution_count": 12,
     "metadata": {},
     "output_type": "execute_result"
    }
   ],
   "source": [
    "data['LeaveOrNot'].value_counts()"
   ]
  },
  {
   "cell_type": "code",
   "execution_count": 13,
   "id": "6c4a345d",
   "metadata": {},
   "outputs": [],
   "source": [
    "# we can do hypothesis testing for statistical analysis for columns\n",
    "#NUll hypothesis and alternate hypothesis\n",
    "#it can be done by ttest,test anova or chi2\n",
    "#let us see all the 3 analysis"
   ]
  },
  {
   "cell_type": "code",
   "execution_count": 14,
   "id": "1888568c",
   "metadata": {},
   "outputs": [],
   "source": [
    "#ttest for Age and Sal\n",
    "_,p=stats.ttest_ind(data['ExperienceInCurrentDomain'],data['Sal'])"
   ]
  },
  {
   "cell_type": "code",
   "execution_count": 15,
   "id": "525ec8eb",
   "metadata": {},
   "outputs": [
    {
     "data": {
      "text/plain": [
       "0.0"
      ]
     },
     "execution_count": 15,
     "metadata": {},
     "output_type": "execute_result"
    }
   ],
   "source": [
    "p"
   ]
  },
  {
   "cell_type": "code",
   "execution_count": 16,
   "id": "0f0994c4",
   "metadata": {},
   "outputs": [],
   "source": [
    "# here p < 0.05 , so alternate hypothesis here"
   ]
  },
  {
   "cell_type": "markdown",
   "id": "e8aae0be",
   "metadata": {},
   "source": [
    "Correlations"
   ]
  },
  {
   "cell_type": "markdown",
   "id": "79cbe74d",
   "metadata": {},
   "source": [
    "#For correlaions, only numericals data are involved.\n",
    "So transforming using label encoding."
   ]
  },
  {
   "cell_type": "code",
   "execution_count": 40,
   "id": "a564def4",
   "metadata": {},
   "outputs": [],
   "source": [
    "le=LabelEncoder()"
   ]
  },
  {
   "cell_type": "code",
   "execution_count": 41,
   "id": "6e85cfd0",
   "metadata": {},
   "outputs": [],
   "source": [
    "data['Education'] = le.fit_transform(data['Education'])"
   ]
  },
  {
   "cell_type": "code",
   "execution_count": 46,
   "id": "ea726040",
   "metadata": {},
   "outputs": [],
   "source": [
    "\n",
    "data['City'] = le.fit_transform(data['City'])\n",
    "data['Gender'] = le.fit_transform(data['Gender'])\n",
    "data['EverBenched'] = le.fit_transform(data['EverBenched'])\n"
   ]
  },
  {
   "cell_type": "code",
   "execution_count": null,
   "id": "b115400b",
   "metadata": {},
   "outputs": [],
   "source": []
  },
  {
   "cell_type": "code",
   "execution_count": 47,
   "id": "4124dd2a",
   "metadata": {},
   "outputs": [],
   "source": [
    "data_corr=data.corr()"
   ]
  },
  {
   "cell_type": "code",
   "execution_count": 50,
   "id": "c54adc05",
   "metadata": {},
   "outputs": [
    {
     "data": {
      "image/png": "[encoded data removed]",
      "text/plain": [
       "<Figure size 1700x600 with 2 Axes>"
      ]
     },
     "metadata": {},
     "output_type": "display_data"
    }
   ],
   "source": [
    "plt.figure(figsize=(17,6))\n",
    "\n",
    "sns.heatmap(data_corr, fmt=\".2f\", annot= True, cmap= \"coolwarm\")\n",
    "plt.show()"
   ]
  },
  {
   "cell_type": "code",
   "execution_count": null,
   "id": "7687c969",
   "metadata": {},
   "outputs": [],
   "source": [
    "#age and salary => correlates\n"
   ]
  },
  {
   "cell_type": "code",
   "execution_count": null,
   "id": "416e1ded",
   "metadata": {},
   "outputs": [],
   "source": []
  }
 ],
 "metadata": {
  "kernelspec": {
   "display_name": "Python 3 (ipykernel)",
   "language": "python",
   "name": "python3"
  },
  "language_info": {
   "codemirror_mode": {
    "name": "ipython",
    "version": 3
   },
   "file_extension": ".py",
   "mimetype": "text/x-python",
   "name": "python",
   "nbconvert_exporter": "python",
   "pygments_lexer": "ipython3",
   "version": "3.11.5"
  }
 },
 "nbformat": 4,
 "nbformat_minor": 5
}
